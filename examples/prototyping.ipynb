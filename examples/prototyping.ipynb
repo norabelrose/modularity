{
 "cells": [
  {
   "cell_type": "code",
   "execution_count": 1,
   "metadata": {},
   "outputs": [],
   "source": [
    "from modularity import Hessian\n",
    "from modularity.resnet_model import ResNetModel\n",
    "from pathlib import Path\n",
    "\n",
    "model = ResNetModel.load_from_checkpoint(\n",
    "    Path.home() / \"modularity-logs\" / \"lightning_logs\" / \"sd-0.1-1.6gf\" / \"checkpoints\" / \"epoch=99-step=39100.ckpt\",\n",
    "    num_classes=10\n",
    ")"
   ]
  },
  {
   "cell_type": "code",
   "execution_count": 2,
   "metadata": {},
   "outputs": [
    {
     "name": "stdout",
     "output_type": "stream",
     "text": [
      "Files already downloaded and verified\n"
     ]
    }
   ],
   "source": [
    "from torch.utils.data import DataLoader\n",
    "import torch.nn.functional as F\n",
    "import torchvision as tv\n",
    "\n",
    "val_transform = tv.transforms.Compose(\n",
    "    [\n",
    "        tv.transforms.ToTensor(),\n",
    "        tv.transforms.Normalize([0, 0, 0], [1, 1, 1]),\n",
    "    ]\n",
    ")\n",
    "\n",
    "val = tv.datasets.CIFAR10(\n",
    "    \"cifar10_val\", train=False, download=True, transform=val_transform\n",
    ")\n",
    "val_dl = DataLoader(val, batch_size=128, num_workers=8)\n",
    "hess = Hessian(model.resnet.cuda(), F.cross_entropy, dataloader=val_dl)"
   ]
  },
  {
   "cell_type": "code",
   "execution_count": 3,
   "metadata": {},
   "outputs": [
    {
     "data": {
      "application/vnd.jupyter.widget-view+json": {
       "model_id": "cb453fefb7ff4c2982df9b41ce5d49de",
       "version_major": 2,
       "version_minor": 0
      },
      "text/plain": [
       "Power iteration:   0%|          | 0/100 [00:00<?, ?it/s]"
      ]
     },
     "metadata": {},
     "output_type": "display_data"
    },
    {
     "name": "stderr",
     "output_type": "stream",
     "text": [
      "/home/norabelrose/miniforge3/lib/python3.9/site-packages/torch/autograd/__init__.py:173: UserWarning: Using backward() with create_graph=True will create a reference cycle between the parameter and its gradient which can cause a memory leak. We recommend using autograd.grad when creating the graph to avoid this. If you have to use this function, make sure to reset the .grad fields of your parameters to None after use to break the cycle and avoid the leak. (Triggered internally at  /opt/conda/conda-bld/pytorch_1646756402876/work/torch/csrc/autograd/engine.cpp:985.)\n",
      "  Variable._execution_engine.run_backward(  # Calls into the C++ engine to run the backward pass\n"
     ]
    }
   ],
   "source": [
    "eigval, eigvec = hess.topk_eig()"
   ]
  },
  {
   "cell_type": "code",
   "execution_count": 4,
   "metadata": {},
   "outputs": [
    {
     "data": {
      "application/vnd.jupyter.widget-view+json": {
       "model_id": "2f94d5ea34f14144aa76b5d0161711aa",
       "version_major": 2,
       "version_minor": 0
      },
      "text/plain": [
       "Lanczos quadrature:   0%|          | 0/100 [00:00<?, ?it/s]"
      ]
     },
     "metadata": {},
     "output_type": "display_data"
    },
    {
     "name": "stderr",
     "output_type": "stream",
     "text": [
      "/home/norabelrose/modularity/modularity/hessian.py:319: UserWarning: torch.eig is deprecated in favor of torch.linalg.eig and will be removed in a future PyTorch release.\n",
      "torch.linalg.eig returns complex tensors of dtype cfloat or cdouble rather than real tensors mimicking complex tensors.\n",
      "L, _ = torch.eig(A)\n",
      "should be replaced with\n",
      "L_complex = torch.linalg.eigvals(A)\n",
      "and\n",
      "L, V = torch.eig(A, eigenvectors=True)\n",
      "should be replaced with\n",
      "L_complex, V_complex = torch.linalg.eig(A) (Triggered internally at  /opt/conda/conda-bld/pytorch_1646756402876/work/aten/src/ATen/native/BatchLinearAlgebra.cpp:2910.)\n",
      "  a_, b_ = torch.eig(T, eigenvectors=True)\n"
     ]
    }
   ],
   "source": [
    "out = hess.density()"
   ]
  },
  {
   "cell_type": "code",
   "execution_count": 9,
   "metadata": {},
   "outputs": [],
   "source": [
    "import matplotlib.pyplot as plt\n",
    "import numpy as np\n",
    "\n",
    "\n",
    "def get_esd_plot(eigenvalues, weights):\n",
    "    density, grids = density_generate(eigenvalues, weights)\n",
    "    plt.semilogy(grids, density + 1.0e-7)\n",
    "    plt.ylabel('Density (Log Scale)', fontsize=14, labelpad=10)\n",
    "    plt.xlabel('Eigenvalue', fontsize=14, labelpad=10)\n",
    "    plt.xticks(fontsize=12)\n",
    "    plt.yticks(fontsize=12)\n",
    "    plt.axis([np.min(eigenvalues) - 1, np.max(eigenvalues) + 1, None, None])\n",
    "    plt.tight_layout()\n",
    "    # plt.savefig('example.pdf')\n",
    "\n",
    "\n",
    "def density_generate(eigenvalues,\n",
    "                     weights,\n",
    "                     num_bins=10000,\n",
    "                     sigma_squared=1e-5,\n",
    "                     overhead=0.01):\n",
    "\n",
    "    eigenvalues = np.array(eigenvalues)\n",
    "    weights = np.array(weights)\n",
    "\n",
    "    lambda_max = np.mean(np.max(eigenvalues, axis=1), axis=0) + overhead\n",
    "    lambda_min = np.mean(np.min(eigenvalues, axis=1), axis=0) - overhead\n",
    "\n",
    "    grids = np.linspace(lambda_min, lambda_max, num=num_bins)\n",
    "    sigma = sigma_squared * max(1, (lambda_max - lambda_min))\n",
    "\n",
    "    num_runs = eigenvalues.shape[0]\n",
    "    density_output = np.zeros((num_runs, num_bins))\n",
    "\n",
    "    for i in range(num_runs):\n",
    "        for j in range(num_bins):\n",
    "            x = grids[j]\n",
    "            tmp_result = gaussian(eigenvalues[i, :], x, sigma)\n",
    "            density_output[i, j] = np.sum(tmp_result * weights[i, :])\n",
    "    density = np.mean(density_output, axis=0)\n",
    "    normalization = np.sum(density) * (grids[1] - grids[0])\n",
    "    density = density / normalization\n",
    "    return density, grids\n",
    "\n",
    "\n",
    "def gaussian(x, x0, sigma_squared):\n",
    "    return np.exp(-(x0 - x)**2 /\n",
    "                  (2.0 * sigma_squared)) / np.sqrt(2 * np.pi * sigma_squared)"
   ]
  },
  {
   "cell_type": "code",
   "execution_count": 10,
   "metadata": {},
   "outputs": [
    {
     "data": {
      "image/png": "[encoded data removed]",
      "text/plain": [
       "<Figure size 432x288 with 1 Axes>"
      ]
     },
     "metadata": {
      "needs_background": "light"
     },
     "output_type": "display_data"
    }
   ],
   "source": [
    "get_esd_plot(*out)"
   ]
  },
  {
   "cell_type": "code",
   "execution_count": 2,
   "metadata": {},
   "outputs": [
    {
     "data": {
      "text/plain": [
       "5495976"
      ]
     },
     "execution_count": 2,
     "metadata": {},
     "output_type": "execute_result"
    }
   ],
   "source": [
    "sum(param.numel() for param in regnet.parameters())"
   ]
  },
  {
   "cell_type": "code",
   "execution_count": 22,
   "metadata": {},
   "outputs": [],
   "source": [
    "from torchvision.models.regnet import ResBottleneckBlock\n",
    "from types import MethodType\n",
    "import torch as th\n",
    "import torchvision as tv\n",
    "\n",
    "def patched_forward(self, x: th.Tensor) -> th.Tensor:\n",
    "    diff = tv.ops.stochastic_depth(self.f(x), 0.1, 'row', self.training)\n",
    "    if self.proj is not None:\n",
    "        x = self.proj(x) + diff\n",
    "    else:\n",
    "        x = x + diff\n",
    "\n",
    "    return self.activation(x)\n",
    "\n",
    "for mod in regnet.modules():\n",
    "    if not isinstance(mod, ResBottleneckBlock):\n",
    "        continue\n",
    "\n",
    "    mod.forward = MethodType(patched_forward, mod)"
   ]
  },
  {
   "cell_type": "code",
   "execution_count": 23,
   "metadata": {},
   "outputs": [
    {
     "data": {
      "text/plain": [
       "tensor([[ 5.5444e-01, -5.1184e-02, -6.6204e-01,  2.1447e-01, -1.6160e-01,\n",
       "         -2.2837e-01, -1.9528e-01, -9.5886e-02,  3.7502e-01, -6.9556e-01,\n",
       "         -5.3866e-01,  3.7680e-01, -4.4030e-01,  2.6729e-01,  1.0549e+00,\n",
       "          5.9788e-01, -3.1261e-01, -9.8664e-02, -2.4541e-01,  1.2788e-01,\n",
       "         -3.3950e-02,  2.2244e-01,  3.9714e-01,  3.8603e-02,  2.8211e-01,\n",
       "          1.6807e-02,  7.2744e-01,  6.2274e-01, -3.3391e-01, -1.1544e+00,\n",
       "         -4.4447e-01, -3.4525e-02,  4.7817e-01,  5.4359e-01, -1.0114e-01,\n",
       "          7.5764e-01, -2.6496e-01,  7.7499e-01,  4.2054e-01, -4.8576e-01,\n",
       "          1.0642e+00, -1.5733e-01, -1.8412e-01,  3.3416e-01,  3.2443e-01,\n",
       "          2.7007e-01, -8.9121e-01, -3.8091e-01,  6.1517e-01, -6.2301e-02,\n",
       "         -1.2033e-01,  3.7144e-01, -3.2188e-02,  4.4235e-02,  1.3679e-01,\n",
       "         -3.1600e-01,  5.4691e-02,  1.3078e-02,  2.5632e-01, -2.7866e-01,\n",
       "         -5.8663e-01, -3.7895e-01,  6.3106e-01,  3.0295e-03,  8.2799e-01,\n",
       "         -4.6840e-01, -3.5479e-03,  2.1408e-01,  4.0157e-01,  7.9500e-02,\n",
       "         -4.2274e-01, -6.4889e-01, -7.5606e-01, -4.3583e-01, -6.0546e-01,\n",
       "          6.4138e-01,  2.5831e-01,  9.9571e-02, -7.4322e-01,  5.0507e-01,\n",
       "          3.7552e-01, -4.2602e-01, -1.1719e+00,  4.7896e-02,  2.7661e-01,\n",
       "         -6.7804e-01,  9.8513e-01,  1.7187e-01,  5.8140e-01,  4.5211e-01,\n",
       "          5.6718e-01, -7.9178e-01,  3.6936e-01,  5.6158e-01,  8.3824e-01,\n",
       "          1.6173e-02,  1.7946e-01,  1.6788e-01,  1.2805e-01, -4.0951e-01,\n",
       "          5.8996e-01,  2.6768e-01, -4.0164e-02, -5.7755e-01, -2.3345e-01,\n",
       "          7.2408e-02, -2.4253e-01,  4.1631e-01, -5.5930e-01, -3.7421e-01,\n",
       "         -1.3458e+00, -7.9322e-03, -1.4386e-01,  1.1388e+00,  7.7239e-02,\n",
       "          1.5717e-01,  4.7715e-01, -2.4713e-01,  1.5017e+00, -6.9127e-01,\n",
       "         -5.9475e-01, -5.4190e-03,  3.4400e-01,  7.2963e-01,  6.1572e-01,\n",
       "         -3.5211e-02, -2.9215e-01, -8.7621e-02, -4.0563e-01,  5.6233e-01,\n",
       "          7.1453e-01, -6.7643e-01,  3.5473e-01, -6.7837e-01,  6.3052e-01,\n",
       "         -2.6632e-01, -5.5850e-02,  1.1976e-01, -1.1386e-01, -4.4865e-01,\n",
       "         -1.7895e-01,  9.8620e-02, -8.3278e-02, -9.3007e-01,  4.6996e-02,\n",
       "          6.2780e-01,  9.5476e-02, -6.3079e-01,  4.8241e-01, -2.8145e-01,\n",
       "          9.7320e-02, -4.2412e-01,  5.0094e-02, -3.7091e-02,  3.8652e-04,\n",
       "         -5.4931e-01,  4.2225e-01, -4.5472e-03, -7.5080e-02,  3.3194e-01,\n",
       "          1.4268e-01,  1.0184e-01,  1.2344e-01, -3.5389e-01, -1.9305e-01,\n",
       "          9.8220e-01,  5.8541e-01, -3.8586e-01, -4.8600e-01,  7.5179e-01,\n",
       "         -3.0890e-01,  5.6562e-02, -1.4176e-01,  4.2367e-01, -2.9001e-01,\n",
       "         -6.7033e-01,  6.7638e-01, -3.9661e-01, -3.2819e-01,  4.8341e-01,\n",
       "         -6.6648e-02, -2.5683e-01,  2.1936e-01, -2.3762e-01,  2.5417e-01,\n",
       "         -1.6792e-01,  4.6401e-01,  6.6337e-01, -2.1592e-01, -4.0846e-01,\n",
       "          1.7227e-01, -4.6221e-01, -2.8463e-01, -1.6536e-01, -7.4154e-01,\n",
       "          9.0767e-01,  2.1179e-01,  6.0755e-01,  7.8957e-01, -6.9283e-02,\n",
       "          9.7282e-01,  4.7593e-01,  6.2207e-01, -1.0395e+00, -4.0920e-01,\n",
       "          3.6232e-01, -1.8054e-01,  5.4700e-02,  2.2032e-01, -1.8181e-02,\n",
       "         -4.5374e-01,  6.6984e-01, -5.0755e-01, -8.0673e-01,  3.1275e-01,\n",
       "         -2.0534e-01,  7.6357e-02, -1.3305e-01,  3.3833e-01,  4.7397e-01,\n",
       "         -3.2005e-01, -1.8958e-01, -2.2533e-01,  6.3721e-01,  1.8991e-01,\n",
       "          8.8965e-01,  1.0068e+00,  1.9937e-01, -8.6309e-01,  5.3137e-01,\n",
       "         -2.9496e-01, -3.6116e-01,  8.9052e-01, -4.7964e-01, -2.6639e-03,\n",
       "          1.8274e-02, -1.3627e+00,  4.3688e-01, -6.6219e-03,  1.2631e-01,\n",
       "          1.5401e-01, -5.6410e-01,  2.4033e-01,  6.5448e-02, -1.0848e+00,\n",
       "          4.5040e-01, -6.9245e-01,  3.8058e-01, -6.9924e-02, -4.0427e-02,\n",
       "          3.4770e-01, -3.2286e-02, -5.9144e-01, -7.0630e-02,  8.3305e-01,\n",
       "         -4.5133e-01, -2.1890e-01, -2.6052e-01,  2.1734e-01,  7.4887e-01,\n",
       "          1.0818e+00,  9.5208e-02,  7.5200e-01, -2.3806e-01, -2.4843e-01,\n",
       "         -1.3734e-02,  7.0415e-01,  5.2762e-01,  4.7602e-01,  1.9995e-01,\n",
       "          6.4074e-01, -6.2200e-01,  5.8922e-01, -2.3942e-01,  7.4168e-01,\n",
       "         -4.7096e-01, -3.4029e-01, -6.1797e-01, -1.6359e-01,  2.5980e-01,\n",
       "          5.9337e-01,  1.8573e-01, -6.5839e-02, -4.0243e-01,  6.5639e-01,\n",
       "          8.9708e-01, -4.7056e-01,  3.6002e-01,  7.0879e-01,  8.5716e-01,\n",
       "         -1.1457e-01, -1.1156e+00,  7.6055e-01, -6.4455e-01,  4.3369e-01,\n",
       "          3.8051e-01,  4.0399e-01,  2.2459e-01, -9.8182e-01, -1.3300e-01,\n",
       "          4.6764e-01, -1.0468e+00,  2.5393e-01,  2.8608e-01, -8.0620e-01,\n",
       "          4.1144e-01, -3.0261e-01,  8.9763e-02, -1.4997e-01,  5.7305e-01,\n",
       "         -3.8693e-01,  2.8915e-01,  4.8158e-01,  1.9173e-01,  7.1553e-01,\n",
       "          1.9437e-01,  8.5849e-01, -8.0584e-01,  5.7465e-01,  3.4712e-02,\n",
       "          1.5593e-01,  1.7842e-01,  7.1728e-01, -1.1028e-01, -5.3773e-01,\n",
       "         -6.4652e-02,  1.5521e-01, -4.6281e-01, -3.0956e-01, -1.6166e-02,\n",
       "          8.4512e-01, -5.5274e-01, -1.0330e+00,  1.1598e+00, -8.0564e-01,\n",
       "         -7.7772e-01, -3.1030e-01, -1.0038e-01, -1.3956e-01,  5.2406e-01,\n",
       "          2.9913e-01, -7.4185e-01, -6.1824e-01,  8.3739e-01, -3.8852e-01,\n",
       "         -3.4977e-01,  8.5252e-01,  8.5305e-01, -1.7234e-01,  2.3070e-01,\n",
       "          6.4129e-01,  1.3233e-01,  5.4295e-01,  2.8747e-02,  1.1868e+00,\n",
       "         -1.1406e+00,  2.8118e-01,  2.2225e-01, -1.7019e+00, -7.6791e-02,\n",
       "          3.2967e-01, -2.2909e-01, -2.2204e-01, -1.8010e-03,  5.8074e-01,\n",
       "          7.3871e-01, -1.1215e-01, -4.3829e-01,  1.7846e+00, -3.7093e-01,\n",
       "         -2.6768e-01,  7.8420e-01,  2.6267e-01,  4.4055e-01,  1.0238e+00,\n",
       "          3.4636e-01, -4.0899e-01,  2.7535e-01,  1.0803e+00,  5.4193e-01,\n",
       "         -1.0051e+00,  3.3902e-01, -7.1292e-02,  6.6316e-01, -1.3026e-01,\n",
       "          1.2464e-01,  5.3761e-02, -3.0676e-01,  3.7000e-01, -2.0278e-01,\n",
       "         -4.1095e-01,  2.1286e-01,  4.2307e-01, -7.4093e-01, -1.8344e-01,\n",
       "          5.0574e-01, -1.5155e-01, -4.7366e-01,  6.5663e-02,  7.9634e-01,\n",
       "          9.5620e-01,  8.6727e-01, -1.2934e+00,  4.9654e-02, -2.8677e-01,\n",
       "         -5.8057e-01,  7.8652e-01,  1.6934e-01,  6.4709e-01,  2.5209e-01,\n",
       "          3.2983e-01, -3.0242e-01, -4.3482e-01, -1.6018e-02, -4.3573e-01,\n",
       "         -1.3391e-01,  7.4935e-02,  7.9188e-01,  5.5835e-01, -3.4856e-01,\n",
       "         -3.6656e-01, -1.4456e-01,  6.8710e-01, -1.9859e-01, -5.0254e-01,\n",
       "          5.6247e-01,  4.4799e-01, -5.9452e-01, -9.9082e-02,  2.9545e-01,\n",
       "         -4.8984e-01,  4.3854e-01, -2.9754e-01,  4.5250e-01, -4.7985e-01,\n",
       "         -1.2183e-01, -4.6740e-02,  3.8839e-01,  5.2984e-01, -5.6367e-01,\n",
       "          5.4717e-01, -7.9770e-02,  7.4560e-01, -8.7577e-02, -3.4392e-01,\n",
       "         -3.3120e-01, -1.4143e-01,  5.9701e-01,  4.1475e-01,  8.7145e-02,\n",
       "          1.4355e-01,  1.7808e-01,  3.6079e-01,  3.8923e-02,  2.3610e-01,\n",
       "          7.1218e-01,  5.4133e-01, -1.7141e-01, -8.6746e-01, -7.5004e-01,\n",
       "          1.0637e+00, -2.4484e-01,  4.5977e-01, -6.0691e-01, -1.1542e-01,\n",
       "          2.5173e-01, -1.7844e-01, -1.4489e-01, -4.6398e-01, -6.5428e-01,\n",
       "         -1.2636e-01, -3.4927e-01,  5.0407e-02,  3.1918e-01,  1.0713e+00,\n",
       "         -5.6105e-01,  4.6554e-01, -1.4841e-01, -4.8055e-01, -1.9590e-01,\n",
       "          5.2094e-01,  7.8411e-01, -5.2851e-01,  2.3390e-01, -2.3283e-01,\n",
       "         -9.4764e-01, -6.4690e-02,  5.0602e-01,  5.5791e-01, -4.6951e-01,\n",
       "          5.8651e-01, -4.2838e-01, -3.0070e-01, -7.1233e-01, -6.4723e-01,\n",
       "          2.4286e-01, -1.8371e-01, -5.3307e-01, -4.5857e-01, -7.5429e-01,\n",
       "          4.4601e-01, -4.1375e-01,  2.3830e-01,  7.8937e-01, -1.3158e-01,\n",
       "         -5.0954e-01,  1.1214e-01,  1.1834e+00, -1.2431e+00, -4.3467e-01,\n",
       "         -1.7936e-01, -9.7056e-02, -1.0022e-01, -5.6814e-01, -8.9407e-01,\n",
       "          3.7236e-01, -2.2662e-01, -5.2717e-01, -7.4661e-01,  1.2411e-01,\n",
       "         -7.4107e-01,  1.9853e-01, -2.8762e-01,  1.0082e+00, -5.4134e-01,\n",
       "         -3.9091e-01,  3.4406e-01, -5.9489e-01,  9.9771e-01, -9.4412e-02,\n",
       "          2.0863e-01, -5.4215e-01,  2.1903e-01, -4.0105e-01, -2.2425e-02,\n",
       "          5.7101e-01, -2.5812e-01,  6.3195e-01,  6.1830e-01,  1.3393e-01,\n",
       "          3.1967e-01, -6.9574e-01,  1.1132e-01,  7.8149e-01,  6.6569e-01,\n",
       "         -1.1578e-01,  3.7145e-01,  2.6936e-01, -2.4826e-01,  3.8610e-01,\n",
       "          5.1720e-01,  9.3242e-01, -5.0409e-01, -9.7284e-01,  1.7645e-01,\n",
       "          1.6625e-01,  3.1964e-01,  7.1082e-01, -1.4552e+00,  5.7827e-01,\n",
       "         -6.6827e-01, -1.0845e+00, -1.1296e-01,  5.4878e-01,  1.5368e-01,\n",
       "          6.2252e-01, -9.5135e-01, -8.2193e-01, -2.8910e-01, -4.4591e-01,\n",
       "          1.2980e-01,  1.2890e-01, -8.7816e-02,  1.3638e-01,  7.2189e-01,\n",
       "          3.2980e-01, -6.8350e-01, -4.5629e-01,  6.3586e-02, -3.9313e-01,\n",
       "         -9.5019e-02,  4.2204e-01,  2.1068e-01,  6.5336e-01, -2.2885e-01,\n",
       "          2.6750e-01,  9.1296e-02,  1.7558e-01,  3.1192e-01,  2.9511e-01,\n",
       "          2.0741e-01, -4.9918e-01,  4.6059e-01,  7.3955e-01, -5.3852e-04,\n",
       "          9.2366e-01, -3.1580e-01, -3.6072e-02,  6.8870e-01,  1.4539e-02,\n",
       "          3.9329e-01,  1.1711e+00, -1.0782e+00, -6.6598e-01, -1.5383e-01,\n",
       "          3.5873e-01,  2.3107e-01, -2.3317e-01, -2.6921e-01, -6.9480e-02,\n",
       "         -8.6180e-01, -3.0667e-01,  1.1277e+00,  4.5773e-01,  3.2865e-01,\n",
       "         -1.4248e-01,  1.0704e-01,  1.8757e-02,  4.4279e-01, -6.2818e-01,\n",
       "          7.4290e-01, -5.8664e-01, -4.3202e-01, -5.7529e-01, -6.3605e-01,\n",
       "         -8.8723e-01,  1.6462e-01,  7.8121e-01,  1.1298e+00,  1.6770e-01,\n",
       "          1.2590e-02, -3.2341e-03,  3.5592e-01, -1.8623e-01, -5.2459e-01,\n",
       "         -1.8982e-01,  1.9803e-02,  6.6749e-01,  2.6624e-01, -7.5510e-01,\n",
       "          6.5266e-01,  2.3418e-01, -1.8765e-01,  1.2989e+00,  6.7371e-01,\n",
       "          2.5659e-01, -4.2547e-01, -8.2329e-01, -2.7939e-01, -5.5625e-01,\n",
       "          3.0126e-01, -1.5251e-01,  3.5040e-01,  8.6063e-02,  3.4183e-01,\n",
       "         -7.7274e-01, -4.2501e-01,  9.4569e-01,  2.7982e-01,  8.0115e-01,\n",
       "          3.2940e-01, -5.3618e-01, -1.1954e-01,  4.6385e-01,  3.5353e-02,\n",
       "         -8.7109e-01,  9.4138e-01, -6.8349e-01,  3.0610e-01,  1.7880e-01,\n",
       "          1.2093e-01,  3.9219e-02, -4.3093e-01,  5.4825e-01,  3.1503e-01,\n",
       "          6.9558e-01,  6.8335e-01, -1.2014e-01, -5.9104e-01, -1.6960e+00,\n",
       "         -5.2774e-01,  7.5366e-01,  9.8876e-02, -8.9063e-02,  5.8035e-01,\n",
       "         -1.2389e+00,  2.5526e-01,  5.2996e-01,  2.9076e-01, -1.1709e-01,\n",
       "          8.8187e-02, -1.7105e-01,  4.9819e-01, -3.6815e-01,  3.9790e-02,\n",
       "         -2.8964e-01,  1.2268e+00,  5.0318e-01, -1.0996e+00,  3.0338e-01,\n",
       "          4.5949e-01,  2.8438e-02, -8.1107e-01, -5.6601e-01, -5.5243e-02,\n",
       "         -1.3764e-04, -4.2447e-01,  1.9751e-01,  4.4046e-01, -1.9933e-01,\n",
       "         -5.6597e-01,  2.5988e-01, -2.7491e-01, -2.2484e-01,  1.3899e-02,\n",
       "          6.2776e-01, -6.1417e-03,  2.2707e-01,  4.2556e-01, -1.3993e-01,\n",
       "         -5.1573e-01, -1.4633e-02,  7.1307e-02, -1.0773e+00, -7.6235e-01,\n",
       "         -9.9828e-01, -5.0135e-01,  3.9995e-01, -6.9783e-01, -4.1839e-01,\n",
       "         -1.1704e+00, -1.2273e-01, -5.9938e-01, -2.0725e-01,  3.9104e-01,\n",
       "         -3.7470e-01, -3.3064e-01,  5.8427e-01,  2.9705e-01, -1.1230e+00,\n",
       "         -3.3233e-01, -7.0962e-01, -4.1941e-01, -1.8148e-01,  2.4464e-01,\n",
       "          3.1684e-01, -1.2442e+00, -2.5977e-01,  3.8563e-01,  4.8208e-01,\n",
       "         -6.3102e-01,  1.8091e-01, -5.4033e-01,  3.9076e-02,  1.0453e+00,\n",
       "         -4.4200e-01, -4.7677e-01,  6.5144e-01, -5.8738e-01, -2.7781e-01,\n",
       "          1.4764e-01, -1.6992e-01, -6.5817e-02,  4.5793e-01,  9.1574e-01,\n",
       "          2.4673e-01, -2.0735e-01, -9.5207e-01, -6.4570e-01, -1.9363e-01,\n",
       "          4.1329e-01,  2.1146e-02,  1.9965e-01,  9.1090e-02, -6.4731e-01,\n",
       "         -3.2487e-01,  4.3737e-01,  6.3785e-01, -1.3279e-01,  4.2141e-01,\n",
       "          6.3720e-01,  8.1270e-03,  3.3416e-02, -1.4699e+00, -4.9005e-01,\n",
       "          5.5784e-01,  6.6166e-01,  8.8763e-02,  2.3848e-01, -6.6252e-02,\n",
       "         -1.3822e-01,  3.6386e-02, -9.3079e-02,  2.7175e-01,  3.3157e-02,\n",
       "          7.9269e-02, -8.2689e-01, -1.1560e-01, -2.2794e-02, -6.1259e-01,\n",
       "          3.0074e-01,  7.2877e-01, -6.9632e-02, -4.5641e-01, -8.1524e-03,\n",
       "          8.7550e-01, -5.6473e-01, -1.2792e-01,  1.9569e-01,  2.9175e-01,\n",
       "         -6.9256e-01, -1.0139e-02, -7.8300e-01,  6.3149e-04,  1.6397e-01,\n",
       "          7.8835e-01,  3.8105e-01, -4.7873e-01,  9.2175e-01, -1.9549e-01,\n",
       "          6.8518e-01,  7.2122e-01,  3.0782e-01,  4.4423e-01,  3.7435e-01,\n",
       "          1.3106e-01,  9.0273e-01, -7.1571e-01, -2.2771e-01,  8.1774e-02,\n",
       "         -3.6924e-03,  5.4213e-01,  6.4932e-01,  5.1128e-01, -1.6740e-01,\n",
       "         -4.8984e-01, -9.3892e-01, -1.8913e-01, -2.9416e-01, -4.5578e-01,\n",
       "         -8.9695e-01,  4.9850e-01,  3.4109e-02,  2.8059e-01,  6.2329e-01,\n",
       "          5.1888e-01, -2.5369e-01, -4.4016e-02,  2.3113e-01,  8.0045e-01,\n",
       "          9.2589e-01,  1.0837e+00,  6.0115e-01,  1.1482e+00, -4.2065e-01,\n",
       "          8.7761e-01,  3.4815e-01,  6.8507e-02, -7.1318e-01,  3.6110e-01,\n",
       "         -6.7456e-01, -1.3755e-01, -3.6212e-01, -1.4337e-01, -9.4740e-01,\n",
       "         -8.7915e-01,  2.1360e-01, -5.4415e-01,  3.2614e-01,  7.6674e-01,\n",
       "         -8.7472e-01, -2.7534e-03, -2.4309e-01, -8.9523e-02, -8.7792e-02,\n",
       "         -3.7388e-01,  7.2498e-01, -1.8885e-02,  1.1239e-01, -5.8267e-01,\n",
       "          7.6888e-01, -2.0360e-01,  5.8496e-01,  1.1469e-01, -4.9587e-01,\n",
       "          2.4381e-01, -9.1048e-01,  1.5243e-01,  7.5678e-01,  5.0218e-03,\n",
       "         -2.1882e-02,  3.2891e-01,  3.0878e-02, -7.8758e-02,  2.8956e-02,\n",
       "         -3.0344e-01,  5.6118e-01,  3.9606e-01, -8.8290e-01, -4.3055e-01,\n",
       "         -1.0504e-01, -9.0356e-01,  1.9280e-01, -1.6408e-01,  8.4900e-02,\n",
       "         -4.7010e-01,  7.9201e-01, -4.4820e-01, -9.6934e-01, -1.9731e-01,\n",
       "          4.5030e-02,  4.7356e-01, -1.2814e-01,  3.3150e-01,  2.6356e-01,\n",
       "          3.7632e-02, -4.0966e-01,  1.7282e-01, -1.2225e-01,  4.7073e-01,\n",
       "         -5.8163e-01,  3.6906e-01,  1.0621e-01,  3.7090e-01, -1.0899e+00,\n",
       "         -1.4666e-01,  6.0502e-01,  6.6956e-01, -9.6191e-01, -9.7300e-02,\n",
       "          9.5705e-01, -2.6630e-01, -3.3903e-01,  5.1727e-01,  3.2011e-01,\n",
       "          3.9434e-01,  7.0495e-01, -9.9161e-02,  2.0836e-01,  8.5165e-01,\n",
       "          3.6992e-01,  2.9136e-01, -7.0690e-01, -1.8041e-02, -9.5498e-02,\n",
       "          4.8525e-02, -3.9067e-01,  2.0928e-01,  2.1905e-01,  5.4299e-02,\n",
       "         -1.0511e+00, -8.2784e-02,  2.3249e-01, -4.4888e-02,  4.7344e-02,\n",
       "         -2.7011e-02,  5.6493e-01,  2.5393e-01, -7.3175e-01, -1.4017e+00,\n",
       "          2.3395e-01,  2.0857e-01, -6.7089e-01,  8.4799e-02, -2.8257e-01,\n",
       "          2.9372e-01,  3.7713e-02, -8.3819e-02, -1.2929e-01,  1.1839e-01,\n",
       "          2.8331e-01,  6.0632e-02,  7.3153e-02,  9.8893e-02,  8.0011e-01,\n",
       "         -1.9938e-01,  4.0699e-01, -7.0192e-02, -1.0761e-01, -1.5601e-01,\n",
       "          2.2358e-01,  5.9693e-01, -1.1605e-01, -1.6516e-01,  2.9027e-03,\n",
       "          6.3669e-01,  5.2008e-01,  3.6569e-01, -6.0318e-01,  7.1401e-02,\n",
       "          1.2489e+00, -3.0299e-01, -6.0671e-03, -1.1522e-01,  6.2828e-02,\n",
       "          2.7999e-01, -5.0230e-02, -2.5526e-01,  1.3762e-01, -1.5682e-02]],\n",
       "       device='cuda:0', grad_fn=<AddmmBackward0>)"
      ]
     },
     "execution_count": 23,
     "metadata": {},
     "output_type": "execute_result"
    }
   ],
   "source": [
    "regnet(th.randn(1, 3, 224, 224, device='cuda'))"
   ]
  },
  {
   "cell_type": "code",
   "execution_count": null,
   "metadata": {},
   "outputs": [],
   "source": [
    "import pytorch_lightning as pl\n",
    "\n",
    "\n",
    "class "
   ]
  }
 ],
 "metadata": {
  "kernelspec": {
   "display_name": "Python 3.9.13 ('base')",
   "language": "python",
   "name": "python3"
  },
  "language_info": {
   "codemirror_mode": {
    "name": "ipython",
    "version": 3
   },
   "file_extension": ".py",
   "mimetype": "text/x-python",
   "name": "python",
   "nbconvert_exporter": "python",
   "pygments_lexer": "ipython3",
   "version": "3.9.13"
  },
  "orig_nbformat": 4,
  "vscode": {
   "interpreter": {
    "hash": "439158cd89905785fcc749928062ade7bfccc3f087fab145e5671f895c635937"
   }
  }
 },
 "nbformat": 4,
 "nbformat_minor": 2
}
